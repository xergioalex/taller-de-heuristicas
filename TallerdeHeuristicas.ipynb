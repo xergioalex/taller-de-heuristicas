{
 "cells": [
  {
   "cell_type": "markdown",
   "metadata": {},
   "source": [
    "### Taller de Heurísticas en Python"
   ]
  },
  {
   "cell_type": "markdown",
   "metadata": {},
   "source": [
    "Ejercicio 1.  Problema de la Mochila\n",
    "- Plantee usted mismo un problema tipo Mochila, que contenga al menos quince (15) variables, con los pesos y valores que usted desee."
   ]
  },
  {
   "cell_type": "markdown",
   "metadata": {},
   "source": [
    "| Artículo (qi) | 1   | 2  | 3  | 4  | 5  | 6  | 7  | 8  | 9  | 10 | 11 | 12 | 13 | 14 | 15 |\n",
    "|---------------|-----|----|----|----|----|----|----|----|----|----|----|----|----|----|----|\n",
    "| Peso (wi)     | 42  | 23 | 21 | 15 | 7  | 28 | 30 | 10 | 18 | 33 | 10 | 10 | 50 | 30 | 25 |\n",
    "| Valor (vi)    | 100 | 60 | 70 | 15 | 15 | 50 | 30 | 60 | 23 | 90 | 10 | 80 | 10 | 10 | 77 |"
   ]
  },
  {
   "cell_type": "markdown",
   "metadata": {},
   "source": [
    "![](mochila.png)"
   ]
  },
  {
   "cell_type": "markdown",
   "metadata": {},
   "source": [
    "RESTRICCIÓN PRINCIPAL\n",
    "\n",
    "**W = 300**"
   ]
  },
  {
   "cell_type": "markdown",
   "metadata": {},
   "source": [
    "**a. Mediante seis (6) heurísticas definidas por usted, de solución a dicho problema. Muestre los cuadros de solución indicando el valor de la función obtenido y cuáles son las variables.**"
   ]
  },
  {
   "cell_type": "code",
   "execution_count": 4,
   "metadata": {
    "collapsed": true
   },
   "outputs": [],
   "source": [
    "W = 300\n",
    "qCount = 15"
   ]
  },
  {
   "cell_type": "code",
   "execution_count": 5,
   "metadata": {},
   "outputs": [
    {
     "name": "stdout",
     "output_type": "stream",
     "text": [
      "wMax:  352\n",
      "vMax:  700\n",
      "\n",
      "(index, weigth, value, value/weigth(density))\n",
      "\n",
      "[(0, 42, 100, 0.42),\n",
      " (1, 23, 60, 0.38333333333333336),\n",
      " (2, 21, 70, 0.3),\n",
      " (3, 15, 15, 1.0),\n",
      " (4, 7, 15, 0.4666666666666667),\n",
      " (5, 28, 50, 0.56),\n",
      " (6, 30, 30, 1.0),\n",
      " (7, 10, 60, 0.16666666666666666),\n",
      " (8, 18, 23, 0.782608695652174),\n",
      " (9, 33, 90, 0.36666666666666664),\n",
      " (10, 10, 10, 1.0),\n",
      " (11, 10, 80, 0.125),\n",
      " (12, 50, 10, 5.0),\n",
      " (13, 30, 10, 3.0),\n",
      " (14, 25, 77, 0.3246753246753247)]\n"
     ]
    }
   ],
   "source": [
    "from pprint import pprint\n",
    "\n",
    "weights = [ 42, 23, 21, 15, 7, 28, 30, 10, 18, 33, 10, 10, 50, 30, 25 ]\n",
    "values  = [ 100, 60, 70, 15, 15, 50, 30, 60, 23, 90, 10, 80, 10, 10, 77 ]\n",
    "# Crear lista de elementos para poder ordenar y operar más fácil con los elementos\n",
    "items = list()\n",
    "\n",
    "wMax = 0\n",
    "vMax = 0\n",
    "for i in range(0, qCount):\n",
    "    wMax += weights[i]\n",
    "    vMax += values[i]\n",
    "    items.append((i, weights[i], values[i], weights[i]/ values[i],))\n",
    "\n",
    "\n",
    "def getI(item):\n",
    "    return item[0]\n",
    "\n",
    "def getW(item):\n",
    "    return item[1]\n",
    "\n",
    "def getV(item):\n",
    "    return item[2]\n",
    "\n",
    "def getD(item):\n",
    "    return item[3]\n",
    "\n",
    "print(\"wMax: \", wMax)\n",
    "print(\"vMax: \", vMax)\n",
    "print()\n",
    "print(\"(index, weigth, value, value/weigth(density))\")\n",
    "print()\n",
    "pprint(items)"
   ]
  },
  {
   "cell_type": "markdown",
   "metadata": {},
   "source": [
    "---\n",
    "**Heurística 1:** Seleccionar elementos con base a su orden original."
   ]
  },
  {
   "cell_type": "code",
   "execution_count": 72,
   "metadata": {},
   "outputs": [
    {
     "name": "stdout",
     "output_type": "stream",
     "text": [
      "wAcum:  297\n",
      "vAcum:  613\n"
     ]
    }
   ],
   "source": [
    "wAcum = 0\n",
    "vAcum = 0\n",
    "\n",
    "for i in range(0, qCount): \n",
    "    if wAcum + getW(items[i]) <= W:\n",
    "        wAcum += getW(items[i])\n",
    "        vAcum += getV(items[i])\n",
    "        \n",
    "print(\"wAcum: \", wAcum)\n",
    "print(\"vAcum: \", vAcum)"
   ]
  },
  {
   "cell_type": "markdown",
   "metadata": {},
   "source": [
    "---\n",
    "**Heurística 2:** Seleccionar los más valiosos primero."
   ]
  },
  {
   "cell_type": "code",
   "execution_count": 73,
   "metadata": {},
   "outputs": [
    {
     "name": "stdout",
     "output_type": "stream",
     "text": [
      "wAcum:  272\n",
      "vAcum:  680\n"
     ]
    }
   ],
   "source": [
    "# Ordenar elementos por valor más alto primero\n",
    "itemsSorted = sorted(items, key=getV, reverse=True)\n",
    "\n",
    "wAcum = 0\n",
    "vAcum = 0\n",
    "\n",
    "for i in range(0, qCount): \n",
    "    if wAcum + getW(itemsSorted[i]) <= W:\n",
    "        wAcum += getW(itemsSorted[i])\n",
    "        vAcum += getV(itemsSorted[i])\n",
    "        \n",
    "print(\"wAcum: \", wAcum)\n",
    "print(\"vAcum: \", vAcum)"
   ]
  },
  {
   "cell_type": "markdown",
   "metadata": {},
   "source": [
    "---\n",
    "**Heurística 3:** Seleccionar los más livianos primero."
   ]
  },
  {
   "cell_type": "code",
   "execution_count": 74,
   "metadata": {},
   "outputs": [
    {
     "name": "stdout",
     "output_type": "stream",
     "text": [
      "wAcum:  260\n",
      "vAcum:  590\n"
     ]
    }
   ],
   "source": [
    "# Ordenar elementos por el peso más liviano primero\n",
    "itemsSorted = sorted(items, key=getW)\n",
    "\n",
    "wAcum = 0\n",
    "vAcum = 0\n",
    "\n",
    "for i in range(0, qCount): \n",
    "    if wAcum + getW(itemsSorted[i]) <= W:\n",
    "        wAcum += getW(itemsSorted[i])\n",
    "        vAcum += getV(itemsSorted[i])\n",
    "        \n",
    "print(\"wAcum: \", wAcum)\n",
    "print(\"vAcum: \", vAcum)"
   ]
  },
  {
   "cell_type": "markdown",
   "metadata": {},
   "source": [
    "---\n",
    "**Heurística 4:** Seleccionar los que tengan menor relación **valor/peso (densidad)**."
   ]
  },
  {
   "cell_type": "code",
   "execution_count": 75,
   "metadata": {},
   "outputs": [
    {
     "name": "stdout",
     "output_type": "stream",
     "text": [
      "wAcum:  272\n",
      "vAcum:  680\n"
     ]
    }
   ],
   "source": [
    "# Ordenar elementos la menor relación de densidad.\n",
    "itemsSorted = sorted(items, key=getD)\n",
    "\n",
    "wAcum = 0\n",
    "vAcum = 0\n",
    "\n",
    "for i in range(0, qCount): \n",
    "    if wAcum + getW(itemsSorted[i]) <= W:\n",
    "        wAcum += getW(itemsSorted[i])\n",
    "        vAcum += getV(itemsSorted[i])\n",
    "        \n",
    "print(\"wAcum: \", wAcum)\n",
    "print(\"vAcum: \", vAcum)"
   ]
  },
  {
   "cell_type": "markdown",
   "metadata": {},
   "source": [
    "---\n",
    "**Heurística 5:** Seleccionar los que tengan mayor relación **valor/peso (densidad)**."
   ]
  },
  {
   "cell_type": "code",
   "execution_count": 84,
   "metadata": {},
   "outputs": [
    {
     "name": "stdout",
     "output_type": "stream",
     "text": [
      "wAcum:  296\n",
      "vAcum:  473\n"
     ]
    }
   ],
   "source": [
    "# Ordenar elementos la mayor relación de densidad.\n",
    "itemsSorted = sorted(items, key=getD, reverse=True)\n",
    "\n",
    "wAcum = 0\n",
    "vAcum = 0\n",
    "\n",
    "for i in range(0, qCount): \n",
    "    if wAcum + getW(itemsSorted[i]) <= W:\n",
    "        wAcum += getW(itemsSorted[i])\n",
    "        vAcum += getV(itemsSorted[i])\n",
    "        \n",
    "print(\"wAcum: \", wAcum)\n",
    "print(\"vAcum: \", vAcum)"
   ]
  },
  {
   "cell_type": "markdown",
   "metadata": {},
   "source": [
    "---\n",
    "**Heurística 6:** Seleccionar los elementos de forma aleatoria"
   ]
  },
  {
   "cell_type": "code",
   "execution_count": 212,
   "metadata": {},
   "outputs": [
    {
     "name": "stdout",
     "output_type": "stream",
     "text": [
      "[(2, 21, 70, 0.3),\n",
      " (8, 18, 23, 0.782608695652174),\n",
      " (5, 28, 50, 0.56),\n",
      " (1, 23, 60, 0.38333333333333336),\n",
      " (9, 33, 90, 0.36666666666666664),\n",
      " (4, 7, 15, 0.4666666666666667),\n",
      " (6, 30, 30, 1.0),\n",
      " (12, 50, 10, 5.0),\n",
      " (10, 10, 10, 1.0),\n",
      " (13, 30, 10, 3.0),\n",
      " (11, 10, 80, 0.125),\n",
      " (7, 10, 60, 0.16666666666666666),\n",
      " (3, 15, 15, 1.0),\n",
      " (0, 42, 100, 0.42),\n",
      " (14, 25, 77, 0.3246753246753247)]\n",
      "i:  3\n",
      "i:  9\n",
      "i:  6\n",
      "i:  2\n",
      "i:  10\n",
      "i:  5\n",
      "i:  7\n",
      "i:  13\n",
      "i:  11\n",
      "i:  14\n",
      "i:  12\n",
      "i:  8\n",
      "i:  4\n",
      "wAcum:  285\n",
      "vAcum:  523\n"
     ]
    }
   ],
   "source": [
    "# Ramdonizo los elementos y voy seleccionando\n",
    "import random\n",
    "itemsRandom = list(items)\n",
    "random.shuffle(itemsRandom)\n",
    "\n",
    "pprint(itemsRandom)\n",
    "\n",
    "wAcum = 0\n",
    "vAcum = 0\n",
    "\n",
    "for i in range(0, qCount): \n",
    "    if wAcum + getW(itemsRandom[i]) <= W:\n",
    "        print(\"i: \", getI(itemsRandom[i])+1)\n",
    "        wAcum += getW(itemsRandom[i])\n",
    "        vAcum += getV(itemsRandom[i])\n",
    "        \n",
    "print(\"wAcum: \", wAcum)\n",
    "print(\"vAcum: \", vAcum)"
   ]
  },
  {
   "cell_type": "markdown",
   "metadata": {},
   "source": [
    "---\n",
    "**Solución**\n",
    "\n",
    "* **Heurística 1 (H1):** Seleccionar elementos con base a su orden original.\n",
    "* **Heurística 2 (H2):** Seleccionar los más valiosos primero.\n",
    "* **Heurística 3 (H3):** Seleccionar los más livianos primero.\n",
    "* **Heurística 4 (H4):** Seleccionar los que tengan menor relación valor/peso (densidad).\n",
    "* **Heurística 5 (H5):** Seleccionar los que tengan mayor relación **valor/peso (densidad)**.\n",
    "* **Heurística 6 (H6):** Seleccionar los elementos de forma aleatoria\n",
    "\n",
    "|            | H1  | H2  | H3  | H4  | H5  | H6  | CHU-BEASLY  |\n",
    "|------------|-----|-----|-----|-----|-----|-----|-------------|\n",
    "| WeigthAcum | 297 | 272 | 260 | 272 | 296 | 285 |     272     |\n",
    "| ValueAcum  | 613 | 680 | 590 | 680 | 473 | 523 |     680     |"
   ]
  },
  {
   "cell_type": "markdown",
   "metadata": {},
   "source": [
    "---\n",
    "**b. Muestre dos pasos usando el algoritmo de vecindarios usando alguna heruristica para la escogencia de la siguiente solución.**"
   ]
  },
  {
   "cell_type": "markdown",
   "metadata": {},
   "source": [
    "Para el algoritmo de vecindad escogeré como mi vector inicial el siguiente:\n",
    "\n",
    "\n",
    "Vector inicial:\n",
    "\n",
    "| 1 | 2 | 3 | 4 | 5 | 6 | 7 | 8 | 9 | 10 | 11 | 12 | 13 | 14 | 15 |\n",
    "|---|---|---|---|---|---|---|---|---|----|----|----|----|----|----|\n",
    "| 0 | 1 | 1 | 1 | 0 | 0 | 0 | 0 | 1 | 1  | 1  | 1  | 1  | 1  | 0  |\n",
    "\n",
    "Vecindarios:\n",
    "\n",
    "**Vecino 1**\n",
    "\n",
    "| 1 | 2 | 3 | 4 | 5 | 6 | 7 | 8 | 9 | 10 | 11 | 12 | 13 | 14 | 15 |\n",
    "|---|---|---|---|---|---|---|---|---|----|----|----|----|----|----|\n",
    "| 1 | 1 | 1 | 1 | 0 | 0 | 0 | 0 | 1 | 1  | 1  | 1  | 1  | 1  | 0  |\n",
    "\n",
    "**Vecino 2**\n",
    "\n",
    "| 1 | 2 | 3 | 4 | 5 | 6 | 7 | 8 | 9 | 10 | 11 | 12 | 13 | 14 | 15 |\n",
    "|---|---|---|---|---|---|---|---|---|----|----|----|----|----|----|\n",
    "| 0 | 0 | 1 | 1 | 0 | 0 | 0 | 0 | 1 | 1  | 1  | 1  | 1  | 1  | 0  |\n",
    "\n",
    "**Vecino 3**\n",
    "\n",
    "| 1 | 2 | 3 | 4 | 5 | 6 | 7 | 8 | 9 | 10 | 11 | 12 | 13 | 14 | 15 |\n",
    "|---|---|---|---|---|---|---|---|---|----|----|----|----|----|----|\n",
    "| 0 | 1 | 0 | 1 | 0 | 0 | 0 | 0 | 1 | 1  | 1  | 1  | 1  | 1  | 0  |\n",
    "\n",
    "**Vecino 4**\n",
    "\n",
    "| 1 | 2 | 3 | 4 | 5 | 6 | 7 | 8 | 9 | 10 | 11 | 12 | 13 | 14 | 15 |\n",
    "|---|---|---|---|---|---|---|---|---|----|----|----|----|----|----|\n",
    "| 0 | 1 | 1 | 0 | 0 | 0 | 0 | 0 | 1 | 1  | 1  | 1  | 1  | 1  | 0  |\n",
    "\n",
    "**Vecino 5**\n",
    "\n",
    "| 1 | 2 | 3 | 4 | 5 | 6 | 7 | 8 | 9 | 10 | 11 | 12 | 13 | 14 | 15 |\n",
    "|---|---|---|---|---|---|---|---|---|----|----|----|----|----|----|\n",
    "| 0 | 1 | 1 | 1 | 1 | 0 | 0 | 0 | 1 | 1  | 1  | 1  | 1  | 1  | 0  |\n",
    "\n",
    "**Vecino 6**\n",
    "\n",
    "| 1 | 2 | 3 | 4 | 5 | 6 | 7 | 8 | 9 | 10 | 11 | 12 | 13 | 14 | 15 |\n",
    "|---|---|---|---|---|---|---|---|---|----|----|----|----|----|----|\n",
    "| 0 | 1 | 1 | 1 | 0 | 1 | 0 | 0 | 1 | 1  | 1  | 1  | 1  | 1  | 0  |\n",
    "\n",
    "**Vecino 7**\n",
    "\n",
    "| 1 | 2 | 3 | 4 | 5 | 6 | 7 | 8 | 9 | 10 | 11 | 12 | 13 | 14 | 15 |\n",
    "|---|---|---|---|---|---|---|---|---|----|----|----|----|----|----|\n",
    "| 0 | 1 | 1 | 1 | 0 | 0 | 1 | 0 | 1 | 1  | 1  | 1  | 1  | 1  | 0  |\n",
    "\n",
    "**Vecino 8**\n",
    "\n",
    "| 1 | 2 | 3 | 4 | 5 | 6 | 7 | 8 | 9 | 10 | 11 | 12 | 13 | 14 | 15 |\n",
    "|---|---|---|---|---|---|---|---|---|----|----|----|----|----|----|\n",
    "| 0 | 1 | 1 | 1 | 0 | 0 | 0 | 1 | 1 | 1  | 1  | 1  | 1  | 1  | 0  |\n",
    "\n",
    "**Vecino 9**\n",
    "\n",
    "| 1 | 2 | 3 | 4 | 5 | 6 | 7 | 8 | 9 | 10 | 11 | 12 | 13 | 14 | 15 |\n",
    "|---|---|---|---|---|---|---|---|---|----|----|----|----|----|----|\n",
    "| 0 | 1 | 1 | 1 | 0 | 0 | 0 | 0 | 0 | 1  | 1  | 1  | 1  | 1  | 0  |\n",
    "\n",
    "**Vecino 10**\n",
    "\n",
    "| 1 | 2 | 3 | 4 | 5 | 6 | 7 | 8 | 9 | 10 | 11 | 12 | 13 | 14 | 15 |\n",
    "|---|---|---|---|---|---|---|---|---|----|----|----|----|----|----|\n",
    "| 0 | 1 | 1 | 1 | 0 | 0 | 0 | 0 | 1 | 0  | 1  | 1  | 1  | 1  | 0  |\n",
    "\n",
    "**Vecino 11**\n",
    "\n",
    "| 1 | 2 | 3 | 4 | 5 | 6 | 7 | 8 | 9 | 10 | 11 | 12 | 13 | 14 | 15 |\n",
    "|---|---|---|---|---|---|---|---|---|----|----|----|----|----|----|\n",
    "| 0 | 1 | 1 | 1 | 0 | 0 | 0 | 0 | 1 | 1  | 0  | 1  | 1  | 1  | 0  |\n",
    "\n",
    "**Vecino 12**\n",
    "\n",
    "| 1 | 2 | 3 | 4 | 5 | 6 | 7 | 8 | 9 | 10 | 11 | 12 | 13 | 14 | 15 |\n",
    "|---|---|---|---|---|---|---|---|---|----|----|----|----|----|----|\n",
    "| 0 | 1 | 1 | 1 | 0 | 0 | 0 | 0 | 1 | 1  | 1  | 0  | 1  | 1  | 0  |\n",
    "\n",
    "**Vecino 13**\n",
    "\n",
    "| 1 | 2 | 3 | 4 | 5 | 6 | 7 | 8 | 9 | 10 | 11 | 12 | 13 | 14 | 15 |\n",
    "|---|---|---|---|---|---|---|---|---|----|----|----|----|----|----|\n",
    "| 0 | 1 | 1 | 1 | 0 | 0 | 0 | 0 | 1 | 1  | 1  | 1  | 0  | 1  | 0  |\n",
    "\n",
    "**Vecino 14**\n",
    "\n",
    "| 1 | 2 | 3 | 4 | 5 | 6 | 7 | 8 | 9 | 10 | 11 | 12 | 13 | 14 | 15 |\n",
    "|---|---|---|---|---|---|---|---|---|----|----|----|----|----|----|\n",
    "| 0 | 1 | 1 | 1 | 0 | 0 | 0 | 0 | 1 | 1  | 1  | 1  | 1  | 0  | 0  |\n",
    "\n",
    "**Vecino 15**\n",
    "\n",
    "| 1 | 2 | 3 | 4 | 5 | 6 | 7 | 8 | 9 | 10 | 11 | 12 | 13 | 14 | 15 |\n",
    "|---|---|---|---|---|---|---|---|---|----|----|----|----|----|----|\n",
    "| 0 | 1 | 1 | 1 | 0 | 0 | 0 | 0 | 1 | 1  | 1  | 1  | 1  | 1  | 1  |"
   ]
  },
  {
   "cell_type": "markdown",
   "metadata": {},
   "source": [
    "**Heurística para escoger el siguiente**\n",
    "\n",
    "Usaré la heurística de **best improvement**, donde elijo el mejor de los vecinos generados."
   ]
  },
  {
   "cell_type": "code",
   "execution_count": 220,
   "metadata": {
    "collapsed": true
   },
   "outputs": [],
   "source": [
    "solution = [ 0, 1, 1, 1, 0, 0, 0, 0, 1, 1, 1, 1, 1, 1, 0 ]"
   ]
  },
  {
   "cell_type": "code",
   "execution_count": 219,
   "metadata": {},
   "outputs": [
    {
     "name": "stdout",
     "output_type": "stream",
     "text": [
      "Original FO:  368\n",
      "Original W:  210\n",
      "\n",
      "[1, 1, 1, 1, 0, 0, 0, 0, 1, 1, 1, 1, 1, 1, 0]\n",
      "Neighbor FO(1): 468 -- W: 252\n",
      "[0, 0, 1, 1, 0, 0, 0, 0, 1, 1, 1, 1, 1, 1, 0]\n",
      "Neighbor FO(2): 308 -- W: 187\n",
      "[0, 1, 0, 1, 0, 0, 0, 0, 1, 1, 1, 1, 1, 1, 0]\n",
      "Neighbor FO(3): 298 -- W: 189\n",
      "[0, 1, 1, 0, 0, 0, 0, 0, 1, 1, 1, 1, 1, 1, 0]\n",
      "Neighbor FO(4): 353 -- W: 195\n",
      "[0, 1, 1, 1, 1, 0, 0, 0, 1, 1, 1, 1, 1, 1, 0]\n",
      "Neighbor FO(5): 383 -- W: 217\n",
      "[0, 1, 1, 1, 0, 1, 0, 0, 1, 1, 1, 1, 1, 1, 0]\n",
      "Neighbor FO(6): 418 -- W: 238\n",
      "[0, 1, 1, 1, 0, 0, 1, 0, 1, 1, 1, 1, 1, 1, 0]\n",
      "Neighbor FO(7): 398 -- W: 240\n",
      "[0, 1, 1, 1, 0, 0, 0, 1, 1, 1, 1, 1, 1, 1, 0]\n",
      "Neighbor FO(8): 428 -- W: 220\n",
      "[0, 1, 1, 1, 0, 0, 0, 0, 0, 1, 1, 1, 1, 1, 0]\n",
      "Neighbor FO(9): 345 -- W: 192\n",
      "[0, 1, 1, 1, 0, 0, 0, 0, 1, 0, 1, 1, 1, 1, 0]\n",
      "Neighbor FO(10): 278 -- W: 177\n",
      "[0, 1, 1, 1, 0, 0, 0, 0, 1, 1, 0, 1, 1, 1, 0]\n",
      "Neighbor FO(11): 358 -- W: 200\n",
      "[0, 1, 1, 1, 0, 0, 0, 0, 1, 1, 1, 0, 1, 1, 0]\n",
      "Neighbor FO(12): 288 -- W: 200\n",
      "[0, 1, 1, 1, 0, 0, 0, 0, 1, 1, 1, 1, 0, 1, 0]\n",
      "Neighbor FO(13): 358 -- W: 160\n",
      "[0, 1, 1, 1, 0, 0, 0, 0, 1, 1, 1, 1, 1, 0, 0]\n",
      "Neighbor FO(14): 358 -- W: 180\n",
      "[0, 1, 1, 1, 0, 0, 0, 0, 1, 1, 1, 1, 1, 1, 1]\n",
      "Neighbor FO(15): 445 -- W: 235\n",
      "---------------\n",
      "BEST SOLUTION ITERATION (1)\n",
      "bestNeigborIndex= 14\n",
      "bestNeigborW= 235\n",
      "bestNeigborFO= 445\n",
      "bestNeigborSol=  [0, 1, 1, 1, 0, 0, 0, 0, 1, 1, 1, 1, 1, 1, 1]\n",
      "\n",
      "[1, 1, 1, 1, 0, 0, 0, 0, 1, 1, 1, 1, 1, 1, 1]\n",
      "Neighbor FO(1): 545 -- W: 277\n",
      "[0, 0, 1, 1, 0, 0, 0, 0, 1, 1, 1, 1, 1, 1, 1]\n",
      "Neighbor FO(2): 385 -- W: 212\n",
      "[0, 1, 0, 1, 0, 0, 0, 0, 1, 1, 1, 1, 1, 1, 1]\n",
      "Neighbor FO(3): 375 -- W: 214\n",
      "[0, 1, 1, 0, 0, 0, 0, 0, 1, 1, 1, 1, 1, 1, 1]\n",
      "Neighbor FO(4): 430 -- W: 220\n",
      "[0, 1, 1, 1, 1, 0, 0, 0, 1, 1, 1, 1, 1, 1, 1]\n",
      "Neighbor FO(5): 460 -- W: 242\n",
      "[0, 1, 1, 1, 0, 1, 0, 0, 1, 1, 1, 1, 1, 1, 1]\n",
      "Neighbor FO(6): 495 -- W: 263\n",
      "[0, 1, 1, 1, 0, 0, 1, 0, 1, 1, 1, 1, 1, 1, 1]\n",
      "Neighbor FO(7): 475 -- W: 265\n",
      "[0, 1, 1, 1, 0, 0, 0, 1, 1, 1, 1, 1, 1, 1, 1]\n",
      "Neighbor FO(8): 505 -- W: 245\n",
      "[0, 1, 1, 1, 0, 0, 0, 0, 0, 1, 1, 1, 1, 1, 1]\n",
      "Neighbor FO(9): 422 -- W: 217\n",
      "[0, 1, 1, 1, 0, 0, 0, 0, 1, 0, 1, 1, 1, 1, 1]\n",
      "Neighbor FO(10): 355 -- W: 202\n",
      "[0, 1, 1, 1, 0, 0, 0, 0, 1, 1, 0, 1, 1, 1, 1]\n",
      "Neighbor FO(11): 435 -- W: 225\n",
      "[0, 1, 1, 1, 0, 0, 0, 0, 1, 1, 1, 0, 1, 1, 1]\n",
      "Neighbor FO(12): 365 -- W: 225\n",
      "[0, 1, 1, 1, 0, 0, 0, 0, 1, 1, 1, 1, 0, 1, 1]\n",
      "Neighbor FO(13): 435 -- W: 185\n",
      "[0, 1, 1, 1, 0, 0, 0, 0, 1, 1, 1, 1, 1, 0, 1]\n",
      "Neighbor FO(14): 435 -- W: 205\n",
      "[0, 1, 1, 1, 0, 0, 0, 0, 1, 1, 1, 1, 1, 1, 0]\n",
      "Neighbor FO(15): 368 -- W: 210\n",
      "---------------\n",
      "BEST SOLUTION ITERATION (2)\n",
      "bestNeigborIndex= 7\n",
      "bestNeigborW= 245\n",
      "bestNeigborFO= 505\n",
      "bestNeigborSol=  [0, 1, 1, 1, 0, 0, 0, 1, 1, 1, 1, 1, 1, 1, 1]\n",
      "\n",
      "[1, 1, 1, 1, 0, 0, 0, 1, 1, 1, 1, 1, 1, 1, 1]\n",
      "Neighbor FO(1): 605 -- W: 287\n",
      "[0, 0, 1, 1, 0, 0, 0, 1, 1, 1, 1, 1, 1, 1, 1]\n",
      "Neighbor FO(2): 445 -- W: 222\n",
      "[0, 1, 0, 1, 0, 0, 0, 1, 1, 1, 1, 1, 1, 1, 1]\n",
      "Neighbor FO(3): 435 -- W: 224\n",
      "[0, 1, 1, 0, 0, 0, 0, 1, 1, 1, 1, 1, 1, 1, 1]\n",
      "Neighbor FO(4): 490 -- W: 230\n",
      "[0, 1, 1, 1, 1, 0, 0, 1, 1, 1, 1, 1, 1, 1, 1]\n",
      "Neighbor FO(5): 520 -- W: 252\n",
      "[0, 1, 1, 1, 0, 1, 0, 1, 1, 1, 1, 1, 1, 1, 1]\n",
      "Neighbor FO(6): 555 -- W: 273\n",
      "[0, 1, 1, 1, 0, 0, 1, 1, 1, 1, 1, 1, 1, 1, 1]\n",
      "Neighbor FO(7): 535 -- W: 275\n",
      "[0, 1, 1, 1, 0, 0, 0, 0, 1, 1, 1, 1, 1, 1, 1]\n",
      "Neighbor FO(8): 445 -- W: 235\n",
      "[0, 1, 1, 1, 0, 0, 0, 1, 0, 1, 1, 1, 1, 1, 1]\n",
      "Neighbor FO(9): 482 -- W: 227\n",
      "[0, 1, 1, 1, 0, 0, 0, 1, 1, 0, 1, 1, 1, 1, 1]\n",
      "Neighbor FO(10): 415 -- W: 212\n",
      "[0, 1, 1, 1, 0, 0, 0, 1, 1, 1, 0, 1, 1, 1, 1]\n",
      "Neighbor FO(11): 495 -- W: 235\n",
      "[0, 1, 1, 1, 0, 0, 0, 1, 1, 1, 1, 0, 1, 1, 1]\n",
      "Neighbor FO(12): 425 -- W: 235\n",
      "[0, 1, 1, 1, 0, 0, 0, 1, 1, 1, 1, 1, 0, 1, 1]\n",
      "Neighbor FO(13): 495 -- W: 195\n",
      "[0, 1, 1, 1, 0, 0, 0, 1, 1, 1, 1, 1, 1, 0, 1]\n",
      "Neighbor FO(14): 495 -- W: 215\n",
      "[0, 1, 1, 1, 0, 0, 0, 1, 1, 1, 1, 1, 1, 1, 0]\n",
      "Neighbor FO(15): 428 -- W: 220\n",
      "---------------\n",
      "BEST SOLUTION ITERATION (3)\n",
      "bestNeigborIndex= 6\n",
      "bestNeigborW= 275\n",
      "bestNeigborFO= 535\n",
      "bestNeigborSol=  [0, 1, 1, 1, 0, 0, 1, 1, 1, 1, 1, 1, 1, 1, 1]\n",
      "\n",
      "[1, 1, 1, 1, 0, 0, 1, 1, 1, 1, 1, 1, 1, 1, 1]\n",
      "Neighbor FO(1): 635 -- W: 317\n",
      "[0, 0, 1, 1, 0, 0, 1, 1, 1, 1, 1, 1, 1, 1, 1]\n",
      "Neighbor FO(2): 475 -- W: 252\n",
      "[0, 1, 0, 1, 0, 0, 1, 1, 1, 1, 1, 1, 1, 1, 1]\n",
      "Neighbor FO(3): 465 -- W: 254\n",
      "[0, 1, 1, 0, 0, 0, 1, 1, 1, 1, 1, 1, 1, 1, 1]\n",
      "Neighbor FO(4): 520 -- W: 260\n",
      "[0, 1, 1, 1, 1, 0, 1, 1, 1, 1, 1, 1, 1, 1, 1]\n",
      "Neighbor FO(5): 550 -- W: 282\n",
      "[0, 1, 1, 1, 0, 1, 1, 1, 1, 1, 1, 1, 1, 1, 1]\n",
      "Neighbor FO(6): 585 -- W: 303\n",
      "[0, 1, 1, 1, 0, 0, 0, 1, 1, 1, 1, 1, 1, 1, 1]\n",
      "Neighbor FO(7): 505 -- W: 245\n",
      "[0, 1, 1, 1, 0, 0, 1, 0, 1, 1, 1, 1, 1, 1, 1]\n",
      "Neighbor FO(8): 475 -- W: 265\n",
      "[0, 1, 1, 1, 0, 0, 1, 1, 0, 1, 1, 1, 1, 1, 1]\n",
      "Neighbor FO(9): 512 -- W: 257\n",
      "[0, 1, 1, 1, 0, 0, 1, 1, 1, 0, 1, 1, 1, 1, 1]\n",
      "Neighbor FO(10): 445 -- W: 242\n",
      "[0, 1, 1, 1, 0, 0, 1, 1, 1, 1, 0, 1, 1, 1, 1]\n",
      "Neighbor FO(11): 525 -- W: 265\n",
      "[0, 1, 1, 1, 0, 0, 1, 1, 1, 1, 1, 0, 1, 1, 1]\n",
      "Neighbor FO(12): 455 -- W: 265\n",
      "[0, 1, 1, 1, 0, 0, 1, 1, 1, 1, 1, 1, 0, 1, 1]\n",
      "Neighbor FO(13): 525 -- W: 225\n",
      "[0, 1, 1, 1, 0, 0, 1, 1, 1, 1, 1, 1, 1, 0, 1]\n",
      "Neighbor FO(14): 525 -- W: 245\n",
      "[0, 1, 1, 1, 0, 0, 1, 1, 1, 1, 1, 1, 1, 1, 0]\n",
      "Neighbor FO(15): 458 -- W: 250\n",
      "---------------\n",
      "BEST SOLUTION ITERATION (4)\n",
      "bestNeigborIndex= 4\n",
      "bestNeigborW= 282\n",
      "bestNeigborFO= 550\n",
      "bestNeigborSol=  [0, 1, 1, 1, 1, 0, 1, 1, 1, 1, 1, 1, 1, 1, 1]\n",
      "\n",
      "[1, 1, 1, 1, 1, 0, 1, 1, 1, 1, 1, 1, 1, 1, 1]\n",
      "Neighbor FO(1): 650 -- W: 324\n",
      "[0, 0, 1, 1, 1, 0, 1, 1, 1, 1, 1, 1, 1, 1, 1]\n",
      "Neighbor FO(2): 490 -- W: 259\n",
      "[0, 1, 0, 1, 1, 0, 1, 1, 1, 1, 1, 1, 1, 1, 1]\n",
      "Neighbor FO(3): 480 -- W: 261\n",
      "[0, 1, 1, 0, 1, 0, 1, 1, 1, 1, 1, 1, 1, 1, 1]\n",
      "Neighbor FO(4): 535 -- W: 267\n",
      "[0, 1, 1, 1, 0, 0, 1, 1, 1, 1, 1, 1, 1, 1, 1]\n",
      "Neighbor FO(5): 535 -- W: 275\n",
      "[0, 1, 1, 1, 1, 1, 1, 1, 1, 1, 1, 1, 1, 1, 1]\n",
      "Neighbor FO(6): 600 -- W: 310\n",
      "[0, 1, 1, 1, 1, 0, 0, 1, 1, 1, 1, 1, 1, 1, 1]\n",
      "Neighbor FO(7): 520 -- W: 252\n",
      "[0, 1, 1, 1, 1, 0, 1, 0, 1, 1, 1, 1, 1, 1, 1]\n",
      "Neighbor FO(8): 490 -- W: 272\n",
      "[0, 1, 1, 1, 1, 0, 1, 1, 0, 1, 1, 1, 1, 1, 1]\n",
      "Neighbor FO(9): 527 -- W: 264\n",
      "[0, 1, 1, 1, 1, 0, 1, 1, 1, 0, 1, 1, 1, 1, 1]\n",
      "Neighbor FO(10): 460 -- W: 249\n",
      "[0, 1, 1, 1, 1, 0, 1, 1, 1, 1, 0, 1, 1, 1, 1]\n",
      "Neighbor FO(11): 540 -- W: 272\n",
      "[0, 1, 1, 1, 1, 0, 1, 1, 1, 1, 1, 0, 1, 1, 1]\n",
      "Neighbor FO(12): 470 -- W: 272\n",
      "[0, 1, 1, 1, 1, 0, 1, 1, 1, 1, 1, 1, 0, 1, 1]\n",
      "Neighbor FO(13): 540 -- W: 232\n",
      "[0, 1, 1, 1, 1, 0, 1, 1, 1, 1, 1, 1, 1, 0, 1]\n",
      "Neighbor FO(14): 540 -- W: 252\n",
      "[0, 1, 1, 1, 1, 0, 1, 1, 1, 1, 1, 1, 1, 1, 0]\n",
      "Neighbor FO(15): 473 -- W: 257\n",
      "---------------\n",
      "BEST SOLUTION ITERATION (5)\n",
      "bestNeigborIndex= 4\n",
      "bestNeigborW= 282\n",
      "bestNeigborFO= 550\n",
      "bestNeigborSol=  [0, 1, 1, 1, 1, 0, 1, 1, 1, 1, 1, 1, 1, 1, 1]\n",
      "\n"
     ]
    }
   ],
   "source": [
    "def FO(solution):\n",
    "    vAcum = 0\n",
    "    for i in range(0, qCount):\n",
    "        vAcum += getV(items[i])*solution[i]\n",
    "    return vAcum\n",
    "\n",
    "def calcW(solution):\n",
    "    wAcum = 0\n",
    "    for i in range(0, qCount):\n",
    "        wAcum += getW(items[i])*solution[i]\n",
    "    return wAcum\n",
    "    \n",
    "\n",
    "initialBestFO = FO(solution)\n",
    "initialBestW = calcW(solution)\n",
    "\n",
    "print(\"Original FO: \", initialBestFO)\n",
    "print(\"Original W: \", initialBestW)\n",
    "print()\n",
    "\n",
    "bestNeigborIndex = 0\n",
    "bestNeigborFO = initialBestFO\n",
    "bestNeigborW = initialBestW\n",
    "bestNeigborSol = list(solution)\n",
    "\n",
    "\n",
    "iteration = 1\n",
    "bestIterationFO = initialBestFO\n",
    "bestIterationW = initialBestW\n",
    "bestIterationSol = list(solution)\n",
    "while (True):\n",
    "    if (bestIterationFO < bestNeigborFO):\n",
    "        bestIterationFO = bestNeigborFO\n",
    "        bestIterationSol = list(bestNeigborSol)\n",
    "        bestIterationW = bestNeigborW\n",
    "\n",
    "    for i in range(0, qCount):\n",
    "        neighbor = list(bestIterationSol)\n",
    "        neighbor[i] = 1 - neighbor[i]\n",
    "        pprint(neighbor)\n",
    "        neighborFO = FO(neighbor)\n",
    "        neighborW  = calcW(neighbor)\n",
    "        print(\"Neighbor FO(%d): %d -- W: %d\" % (i+1 , neighborFO, neighborW))\n",
    "        if (neighborFO > bestIterationFO and neighborW <= W):\n",
    "            bestNeigborIndex = i\n",
    "            bestNeigborFO = neighborFO\n",
    "            bestNeigborSol = list(neighbor)\n",
    "            bestNeigborW = neighborW\n",
    "\n",
    "    print(\"---------------\")\n",
    "    print(\"BEST SOLUTION ITERATION (%d)\" % iteration)\n",
    "    print(\"bestNeigborIndex= %d\" % bestNeigborIndex)\n",
    "    print(\"bestNeigborW= %d\" % bestNeigborW)\n",
    "    print(\"bestNeigborFO= %d\" % bestNeigborFO)\n",
    "    print(\"bestNeigborSol= \", bestNeigborSol)\n",
    "    print()\n",
    "    iteration = iteration + 1\n",
    "    \n",
    "    if (bestIterationFO == bestNeigborFO):\n",
    "        break\n"
   ]
  },
  {
   "cell_type": "markdown",
   "metadata": {},
   "source": [
    "Para la solucción elegida, lastimosamente usando la heurística de vencindades no fue posible encontrar una mejor solución que las de las otras heurísticas planteadas, pero si mejoramos bastante la solución inicial."
   ]
  },
  {
   "cell_type": "markdown",
   "metadata": {},
   "source": [
    "----\n",
    "**Ejercicio 2.  Problema del Agente viajero para 6 ciudades**\n",
    "\n",
    "Se tiene la siguiente matriz de distancias entre ciudades. Se desea solucionar el problema del agente viajero.\n",
    "\n",
    "**Tabla 1: Matriz de Distancias**\n",
    "\n",
    "| Ciudades | 1   | 2   | 3   | 4   | 5   | 6   |\n",
    "|----------|-----|-----|-----|-----|-----|-----|\n",
    "| 1        | 0   | 9.5 | 7   | 10  | 3.5 | 7   |\n",
    "| 2        | 9.5 | 0   | 4.4 | 3.5 | 9   | 7.5 |\n",
    "| 3        | 6   | 4   | 0   | 5.5 | 4.5 | 4.5 |\n",
    "| 4        | 9   | 3.5 | 3.5 | 0   | 7.5 | 5.5 |\n",
    "| 5        | 5.5 | 11  | 4.5 | 7.5 | 0   | 4.1 |\n",
    "| 6        | 7.6 | 7.5 | 3.5 | 7   | 4.1 | 0   |\n",
    "\n",
    "---\n",
    "**a. Defina el Modelo matemático**\n",
    "\n",
    "El TSP puede ser formulado por la programación lineal en enteros. Sea **Xij** igual 1, si existe el camino de ir de la i a la ciudad j, y 0 en otro caso, para el conjunto de ciudades 0,..., n. Sean **Ui** para i = 1,..., n variables artificiales y sea **Cij** la distancia desde la ciudad i a la ciudad j. Entonces el modelo de programación lineal en enteros puede ser escrito como:\n",
    "\n",
    "![](agenteviajero.png)"
   ]
  },
  {
   "cell_type": "code",
   "execution_count": 29,
   "metadata": {},
   "outputs": [],
   "source": [
    "distances = [\n",
    "    [0.0, 9.5 , 7.0, 10.0, 3.5, 7.0],\n",
    "    [9.5, 0.0 , 4.4, 3.5 , 9.0, 7.5],\n",
    "    [6.0, 4.0 , 0.0, 5.5 , 4.5, 4.5],\n",
    "    [9.0, 3.5 , 3.5, 0.0 , 7.5, 5.5],\n",
    "    [5.5, 11.0, 4.5, 7.5 , 0.0, 4.1],\n",
    "    [7.6, 7.5 , 3.5, 7.0 , 4.1, 0.0]\n",
    "]\n",
    "\n",
    "V = [ 1, 2, 3, 4, 5 , 6 ]\n",
    "E = [\n",
    "    [(1, 2), (1, 3), (1, 4), (1, 5), (1, 6)],\n",
    "    [(2, 1), (2, 3), (2, 4), (2, 5), (2, 6)],\n",
    "    [(3, 1), (3, 2), (3, 4), (3, 5), (3, 6)],\n",
    "    [(4, 1), (4, 2), (4, 3), (4, 5), (4, 6)],\n",
    "    [(5, 1), (5, 2), (5, 3), (5, 4), (5, 6)],\n",
    "    [(6, 1), (6, 2), (6, 3), (6, 4), (6, 6)],\n",
    "]"
   ]
  },
  {
   "cell_type": "markdown",
   "metadata": {},
   "source": [
    "![](agenteviajerografo.png)\n",
    "\n",
    "---\n",
    "**b. Sugiera un vector que represente una alternativa de solución para este problema.**\n",
    "\n",
    "Vector solución usando Heurística simple seleccionando las ciudades con base a su orden.\n",
    "\n",
    "**1 -> 2 -> 3 -> 4 -> 5 -> 6 -> 1**\n",
    "\n",
    "![](agenteviajerografo_1.png)"
   ]
  },
  {
   "cell_type": "code",
   "execution_count": 41,
   "metadata": {},
   "outputs": [
    {
     "name": "stdout",
     "output_type": "stream",
     "text": [
      "SolutionFO: 38.600000\n"
     ]
    }
   ],
   "source": [
    "# 1 -> 2 -> 3 -> 4 -> 5 -> 6 -> 1\n",
    "solution = [\n",
    "    (1, 2), (2, 3), (3, 4), (4, 5), (5, 6), (6, 1),\n",
    "]\n",
    "\n",
    "def calcGraphFO(solution):\n",
    "    distFO = 0\n",
    "    for edge in solution:\n",
    "        distFO += distances[edge[0]-1][edge[1]-1]\n",
    "        \n",
    "    return distFO\n",
    "\n",
    "print(\"SolutionFO: %f\" % calcGraphFO(solution))"
   ]
  },
  {
   "cell_type": "markdown",
   "metadata": {},
   "source": [
    "---\n",
    "**c. Usando al menos dos (2) heurísticas, encuentre una solución y compárelas.**\n",
    "\n",
    "**Heurística 1:** Seleccionar la ciudad más cercana primero."
   ]
  },
  {
   "cell_type": "code",
   "execution_count": 67,
   "metadata": {},
   "outputs": [
    {
     "name": "stdout",
     "output_type": "stream",
     "text": [
      "[(1, 5), (5, 6), (6, 3), (3, 2), (2, 4), (4, 1)]\n",
      "27.6\n"
     ]
    }
   ],
   "source": [
    "# 1 -> 5 -> 6 -> 3 -> 2 -> 4 -> 1\n",
    "solution = list()\n",
    "\n",
    "originV   = 1\n",
    "nextV     = 1\n",
    "totalDist = 0\n",
    "\n",
    "markedV = [ 1, 0, 0, 0, 0, 0 ]\n",
    "\n",
    "def solSolved(markedV):\n",
    "    for i in markedV:\n",
    "        if not i:\n",
    "            return False\n",
    "    return True\n",
    "\n",
    "def findMinEdge(selectedV):\n",
    "    minEdge = ()\n",
    "    minDist = 100000000000\n",
    "    for edge in E[selectedV-1]:\n",
    "        if not markedV[edge[1]-1]:\n",
    "            dist = distances[edge[0]-1][edge[1]-1]\n",
    "            if dist < minDist:\n",
    "                minEdge = edge\n",
    "                minDist = dist\n",
    "                \n",
    "    global totalDist, nextV\n",
    "    totalDist = totalDist + minDist\n",
    "    solution.append(minEdge)\n",
    "    nextV = minEdge[1]\n",
    "    markedV[nextV-1] = 1\n",
    " \n",
    "\n",
    "while not solSolved(markedV):\n",
    "    findMinEdge(nextV)\n",
    "    \n",
    "markedV[originV-1] = 0\n",
    "findMinEdge(nextV)\n",
    "\n",
    "\n",
    "pprint(solution)\n",
    "pprint(totalDist)"
   ]
  },
  {
   "cell_type": "markdown",
   "metadata": {},
   "source": [
    "**SE OBTIENE COMO RESULTADO DE LA HEURÍSTICA UN**\n",
    "\n",
    "**TotalDistance = 27.6**\n",
    "\n",
    "**1 -> 5 -> 6 -> 3 -> 2 -> 4 -> 1**\n",
    "\n",
    "![](agenteviajerografomin_2.png)"
   ]
  },
  {
   "cell_type": "markdown",
   "metadata": {},
   "source": [
    "---\n",
    "**Heurística 2:** Seleccionar las ciudades de forma aleatoria"
   ]
  },
  {
   "cell_type": "code",
   "execution_count": 122,
   "metadata": {},
   "outputs": [
    {
     "name": "stdout",
     "output_type": "stream",
     "text": [
      "[(1, 4), (4, 3), (3, 6), (6, 2), (2, 5), (5, 1)]\n",
      "40.0\n"
     ]
    }
   ],
   "source": [
    "import random\n",
    "\n",
    "# 1 -> 5 -> 6 -> 3 -> 2 -> 4 -> 1\n",
    "solution = list()\n",
    "\n",
    "originV   = 1\n",
    "nextV     = 1\n",
    "totalDist = 0\n",
    "\n",
    "markedV = [ 1, 0, 0, 0, 0, 0 ]\n",
    "\n",
    "def solSolved(markedV):\n",
    "    for i in markedV:\n",
    "        if not i:\n",
    "            return False\n",
    "    return True\n",
    "\n",
    "def findMinEdge(selectedV):\n",
    "    minEdge = ()\n",
    "    minDist = 100000000000\n",
    "    \n",
    "    edge = random.choice(E[selectedV-1])\n",
    "    while markedV[edge[1]-1]:\n",
    "        edge = random.choice(E[selectedV-1])\n",
    "        \n",
    "    dist = distances[edge[0]-1][edge[1]-1]\n",
    "    if dist < minDist:\n",
    "        minEdge = edge\n",
    "        minDist = dist\n",
    "                \n",
    "    global totalDist, nextV\n",
    "    totalDist = totalDist + minDist\n",
    "    solution.append(minEdge)\n",
    "    nextV = minEdge[1]\n",
    "    markedV[nextV-1] = 1\n",
    " \n",
    "\n",
    "while not solSolved(markedV):\n",
    "    findMinEdge(nextV)\n",
    "    \n",
    "markedV[originV-1] = 0\n",
    "findMinEdge(nextV)\n",
    "\n",
    "\n",
    "pprint(solution)\n",
    "pprint(totalDist)"
   ]
  },
  {
   "cell_type": "markdown",
   "metadata": {},
   "source": [
    "**SE OBTIENE COMO RESULTADO DE LA HEURÍSTICA:**\n",
    "\n",
    "**TotalDistance = 40**\n",
    "\n",
    "**1 -> 4 -> 3 -> 6 -> 2 -> 5 -> 1**\n",
    "\n",
    "![](agenteviajerograforandom_3.png)"
   ]
  }
 ],
 "metadata": {
  "kernelspec": {
   "display_name": "Python 3",
   "language": "python",
   "name": "python3"
  },
  "language_info": {
   "codemirror_mode": {
    "name": "ipython",
    "version": 3
   },
   "file_extension": ".py",
   "mimetype": "text/x-python",
   "name": "python",
   "nbconvert_exporter": "python",
   "pygments_lexer": "ipython3",
   "version": "3.5.2"
  }
 },
 "nbformat": 4,
 "nbformat_minor": 2
}
